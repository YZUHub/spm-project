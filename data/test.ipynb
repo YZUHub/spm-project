{
 "cells": [
  {
   "cell_type": "code",
   "execution_count": 1,
   "id": "2e4f2e61-725d-4477-a3b3-a367f2e7ad79",
   "metadata": {},
   "outputs": [],
   "source": [
    "import json"
   ]
  },
  {
   "cell_type": "code",
   "execution_count": 2,
   "id": "af7e6ac9-8401-4d3b-9b24-d738f9f9c9f6",
   "metadata": {},
   "outputs": [],
   "source": [
    "with open(\"static/processed/units.json\", encoding=\"utf-8\") as reader:\n",
    "    units = json.loads(reader.read())"
   ]
  },
  {
   "cell_type": "code",
   "execution_count": 3,
   "id": "70368bac-f4f2-458c-9612-57bd9609b8d4",
   "metadata": {},
   "outputs": [
    {
     "data": {
      "text/plain": [
       "443891"
      ]
     },
     "execution_count": 3,
     "metadata": {},
     "output_type": "execute_result"
    }
   ],
   "source": [
    "len(units)"
   ]
  },
  {
   "cell_type": "code",
   "execution_count": 4,
   "id": "81518229-b1e0-4850-a386-0a1673988772",
   "metadata": {},
   "outputs": [],
   "source": [
    "with open(\"static/processed/data.json\") as reader:\n",
    "    index_data = json.loads(reader.read())"
   ]
  },
  {
   "cell_type": "code",
   "execution_count": 5,
   "id": "fa7502a3-e6bd-4d7d-9efa-17190b6e1e33",
   "metadata": {},
   "outputs": [
    {
     "data": {
      "text/plain": [
       "116"
      ]
     },
     "execution_count": 5,
     "metadata": {},
     "output_type": "execute_result"
    }
   ],
   "source": [
    "len(index_data)"
   ]
  },
  {
   "cell_type": "code",
   "execution_count": 6,
   "id": "73be07e9-d340-48a2-ad37-0ea27da7831f",
   "metadata": {},
   "outputs": [],
   "source": [
    "unit = units[0]"
   ]
  },
  {
   "cell_type": "code",
   "execution_count": 7,
   "id": "68e76822-2c48-4a7b-a80c-faa4d0532808",
   "metadata": {},
   "outputs": [
    {
     "data": {
      "text/plain": [
       "70.0"
      ]
     },
     "execution_count": 7,
     "metadata": {},
     "output_type": "execute_result"
    }
   ],
   "source": [
    "unit[\"index_id\"]"
   ]
  },
  {
   "cell_type": "code",
   "execution_count": 8,
   "id": "0f9096cf-072c-4d48-b34e-1c50debd92c2",
   "metadata": {},
   "outputs": [],
   "source": [
    "index = index_data[\"70\"]"
   ]
  },
  {
   "cell_type": "code",
   "execution_count": 9,
   "id": "a7bceec1-fe24-4c59-8690-e837d82511d3",
   "metadata": {},
   "outputs": [
    {
     "data": {
      "text/plain": [
       "[{'date': '2004-01-01', 'index': 113.44, 'estPricePerSqm': 31658.4025989887},\n",
       " {'date': '2004-04-01', 'index': 112.93, 'estPricePerSqm': 31516.0737438628},\n",
       " {'date': '2004-07-01', 'index': 117.66, 'estPricePerSqm': 32836.1041061091},\n",
       " {'date': '2004-10-01', 'index': 119.38, 'estPricePerSqm': 33316.1151469259},\n",
       " {'date': '2005-01-01', 'index': 124.74, 'estPricePerSqm': 34811.9635066807}]"
      ]
     },
     "execution_count": 9,
     "metadata": {},
     "output_type": "execute_result"
    }
   ],
   "source": [
    "index[:5]"
   ]
  },
  {
   "cell_type": "code",
   "execution_count": 10,
   "id": "27c014d9-4f40-48e3-a360-067ba2e0b407",
   "metadata": {},
   "outputs": [
    {
     "data": {
      "text/plain": [
       "{'date': '2024-04-01', 'index': 409.39, 'estPricePerSqm': 114251}"
      ]
     },
     "execution_count": 10,
     "metadata": {},
     "output_type": "execute_result"
    }
   ],
   "source": [
    "index[-1]"
   ]
  },
  {
   "cell_type": "code",
   "execution_count": 11,
   "id": "eb2ecf3c-4a6f-4651-aaa4-cfd53de40d0c",
   "metadata": {},
   "outputs": [
    {
     "data": {
      "text/plain": [
       "4227287.0"
      ]
     },
     "execution_count": 11,
     "metadata": {},
     "output_type": "execute_result"
    }
   ],
   "source": [
    "unit[\"bra\"] * index[-1][\"estPricePerSqm\"]"
   ]
  },
  {
   "cell_type": "code",
   "execution_count": 12,
   "id": "7c5a1ff1-3780-4f9c-8e87-1036fa98d028",
   "metadata": {},
   "outputs": [
    {
     "data": {
      "text/plain": [
       "3600000.0"
      ]
     },
     "execution_count": 12,
     "metadata": {},
     "output_type": "execute_result"
    }
   ],
   "source": [
    "unit[\"index_valuation\"]"
   ]
  },
  {
   "cell_type": "code",
   "execution_count": 13,
   "id": "d370c6df-6f93-4d8c-a582-6c4eb224fd1f",
   "metadata": {},
   "outputs": [
    {
     "data": {
      "text/plain": [
       "41.52519602335182"
      ]
     },
     "execution_count": 13,
     "metadata": {},
     "output_type": "execute_result"
    }
   ],
   "source": [
    "current_rental_valuation_index = unit[\"rental_valuation\"] / index[-1][\"index\"]\n",
    "current_rental_valuation_index"
   ]
  },
  {
   "cell_type": "code",
   "execution_count": 14,
   "id": "418cba0f-42b9-41a5-ae0f-b5423f59bbb0",
   "metadata": {},
   "outputs": [
    {
     "data": {
      "text/plain": [
       "dict_keys(['unit_id', 'address_id', 'property_id_nma', 'property_id_short', 'transaction_id', 'full_address', 'finn_code', 'postal_code', 'lat', 'lon', 'index_id', 'unit_type', 'building_type_name_aggregated', 'floor_number', 'floors', 'land_area', 'bta', 'bra', 'prom', 'rooms', 'bedrooms', 'bathrooms', 'built_year', 'energy_label', 'rental_valuation', 'rental_model_valuation', 'rental_ensemble_valuation', 'rental_price_per_sqm', 'valuation_lower_range', 'valuation_upper_range', 'rental_lower_range', 'rental_upper_range', 'bar', 'index_valuation', 'comparables_valuation', 'listing_valuation', 'transaction_valuation', 'ensemble_valuation', 'transaction_day', 'transaction_month', 'transaction_year', 'broker_name', 'broker_logo', 'building_id', 'property_id', 'apartment_number', 'housing_association_id_nma', 'floor_code_value', 'wcs', 'building_enr', 'property_id_nma_without_knr', 'city_name', 'housing_association_name', 'housing_assocation_organization_id', 'housing_association_share_number', 'building_number', 'address', 'ownership_form', 'housing_company_org_id', 'bra_i', 'bra_e', 'bra_b', 'tba_area', 'comparable_transaction', 'comparable_price_per_sqm', 'distance', 'city_number', 'batch_id', 'geometry'])"
      ]
     },
     "execution_count": 14,
     "metadata": {},
     "output_type": "execute_result"
    }
   ],
   "source": [
    "unit.keys()"
   ]
  },
  {
   "cell_type": "code",
   "execution_count": 15,
   "id": "70feb050-9f5a-4d5f-babe-a25f82c283cd",
   "metadata": {},
   "outputs": [],
   "source": [
    "fields = [\"rental_valuation\", \"rental_model_valuation\", \"index_valuation\", \"comparables_valuation\", \"listing_valuation\", \"transaction_valuation\"]"
   ]
  },
  {
   "cell_type": "code",
   "execution_count": 16,
   "id": "343e76d5-625d-408a-a745-b93a078f2d9a",
   "metadata": {},
   "outputs": [],
   "source": [
    "def prepare_unit_valuations(unit, index):\n",
    "    vals = []\n",
    "    for i in index:\n",
    "        val = {\"unit_id\": unit[\"unit_id\"], \"date\": i[\"date\"]}\n",
    "        for field in fields:\n",
    "            if unit[field]:\n",
    "                val[field] = unit[field] / index[-1][\"index\"] * i[\"index\"]\n",
    "            else:\n",
    "                val[field] = None\n",
    "        vals.append(val)\n",
    "    return vals"
   ]
  },
  {
   "cell_type": "code",
   "execution_count": 17,
   "id": "510026d1-dc00-4e80-93d8-ccc963d14f36",
   "metadata": {},
   "outputs": [],
   "source": [
    "data = []\n",
    "for unit in units:\n",
    "    if unit[\"index_id\"]:\n",
    "        index_id = str(int(unit[\"index_id\"]))\n",
    "        index = index_data[index_id]\n",
    "        data.extend(prepare_unit_valuations(unit, index))"
   ]
  },
  {
   "cell_type": "code",
   "execution_count": 18,
   "id": "49ad763d-7708-407e-86d1-291256432555",
   "metadata": {},
   "outputs": [
    {
     "data": {
      "text/plain": [
       "32597568"
      ]
     },
     "execution_count": 18,
     "metadata": {},
     "output_type": "execute_result"
    }
   ],
   "source": [
    "len(data)"
   ]
  },
  {
   "cell_type": "code",
   "execution_count": null,
   "id": "57b83507-2b40-4003-92cf-e05ea368003e",
   "metadata": {},
   "outputs": [],
   "source": []
  }
 ],
 "metadata": {
  "kernelspec": {
   "display_name": "Python 3 (ipykernel)",
   "language": "python",
   "name": "python3"
  },
  "language_info": {
   "codemirror_mode": {
    "name": "ipython",
    "version": 3
   },
   "file_extension": ".py",
   "mimetype": "text/x-python",
   "name": "python",
   "nbconvert_exporter": "python",
   "pygments_lexer": "ipython3",
   "version": "3.12.7"
  }
 },
 "nbformat": 4,
 "nbformat_minor": 5
}
